{
  "nbformat": 4,
  "nbformat_minor": 0,
  "metadata": {
    "colab": {
      "provenance": [],
      "toc_visible": true,
      "authorship_tag": "ABX9TyPn5Qe9aq7x0gNXRIYocjrm",
      "include_colab_link": true
    },
    "kernelspec": {
      "name": "python3",
      "display_name": "Python 3"
    },
    "language_info": {
      "name": "python"
    }
  },
  "cells": [
    {
      "cell_type": "markdown",
      "metadata": {
        "id": "view-in-github",
        "colab_type": "text"
      },
      "source": [
        "<a href=\"https://colab.research.google.com/github/joaogcbarbosa/data_analysis_pandas/blob/main/adventure_works.ipynb\" target=\"_parent\"><img src=\"https://colab.research.google.com/assets/colab-badge.svg\" alt=\"Open In Colab\"/></a>"
      ]
    },
    {
      "cell_type": "code",
      "execution_count": 1,
      "metadata": {
        "id": "75zCiIAWCYes"
      },
      "outputs": [],
      "source": [
        "import pandas as pd\n",
        "from matplotlib import pyplot as plt"
      ]
    },
    {
      "cell_type": "code",
      "source": [
        "df = pd.read_excel('/content/drive/MyDrive/AdventureWorks.xlsx')"
      ],
      "metadata": {
        "id": "vs9Oee8KIcrA"
      },
      "execution_count": 2,
      "outputs": []
    },
    {
      "cell_type": "code",
      "source": [
        "pd.options.display.float_format = '{:,.2f}'.format"
      ],
      "metadata": {
        "id": "ePtacTulIixT"
      },
      "execution_count": 3,
      "outputs": []
    },
    {
      "cell_type": "code",
      "source": [
        "df.rename(columns={'Valor Venda': 'Receita'}, inplace=True)"
      ],
      "metadata": {
        "id": "LvHvmRKwJvIt"
      },
      "execution_count": 88,
      "outputs": []
    },
    {
      "cell_type": "code",
      "source": [
        "plt.style.use('seaborn') "
      ],
      "metadata": {
        "id": "871k9NlRb1IF"
      },
      "execution_count": 83,
      "outputs": []
    },
    {
      "cell_type": "code",
      "source": [
        "#Visualizar as 5 primeiras linhas\n",
        "df.head()"
      ],
      "metadata": {
        "id": "S5LymZ4RJHJq"
      },
      "execution_count": null,
      "outputs": []
    },
    {
      "cell_type": "code",
      "source": [
        "#Quantidade de linhas e colunas\n",
        "df.shape"
      ],
      "metadata": {
        "id": "cdQ4cwTQJZVM"
      },
      "execution_count": null,
      "outputs": []
    },
    {
      "cell_type": "code",
      "source": [
        "#Verificar os tipos de dados\n",
        "df.dtypes"
      ],
      "metadata": {
        "id": "ud1BrX2mJjH0"
      },
      "execution_count": null,
      "outputs": []
    },
    {
      "cell_type": "code",
      "source": [
        "#Receita total\n",
        "f'A receita total é de US${round(df[\"Receita\"].sum(), 2)}'"
      ],
      "metadata": {
        "id": "QUYmQgxPKXJg"
      },
      "execution_count": null,
      "outputs": []
    },
    {
      "cell_type": "code",
      "source": [
        "#Custo total\n",
        "df['Custo Total'] = df['Custo Unitário'].mul(df['Quantidade'])\n",
        "round(df[\"Custo Total\"], 2)"
      ],
      "metadata": {
        "id": "ruk86B0MKXWj"
      },
      "execution_count": null,
      "outputs": []
    },
    {
      "cell_type": "code",
      "source": [
        "#Lucro total\n",
        "df['Lucro Total'] = df['Receita'] - df['Custo Total']\n",
        "round(df['Lucro Total'], 2)"
      ],
      "metadata": {
        "id": "r_Rmn2NnN1St"
      },
      "execution_count": null,
      "outputs": []
    },
    {
      "cell_type": "code",
      "source": [
        "#Total de dias para enviar o produto\n",
        "df['Tempo Envio'] = df['Data Envio'] - df['Data Venda']\n",
        "df['Tempo Envio']"
      ],
      "metadata": {
        "id": "1ux0GicXN1Z9"
      },
      "execution_count": null,
      "outputs": []
    },
    {
      "cell_type": "code",
      "source": [
        "#Transformar a variável acima em int\n",
        "df['Tempo Envio'] = df['Tempo Envio'].astype('int64')"
      ],
      "metadata": {
        "id": "njGYzXKRN1dR"
      },
      "execution_count": null,
      "outputs": []
    },
    {
      "cell_type": "code",
      "source": [
        "#Média de tempo de envio por marca\n",
        "df['Tempo Envio'] = (df['Data Envio'] - df['Data Venda']).dt.days\n",
        "df.groupby('Marca')['Tempo Envio'].mean()"
      ],
      "metadata": {
        "id": "VkIiwIZ9N1jc"
      },
      "execution_count": null,
      "outputs": []
    },
    {
      "cell_type": "code",
      "source": [
        "#Verificar se há dados faltantes\n",
        "df.isnull().sum()"
      ],
      "metadata": {
        "id": "nroZ3LuTN1md"
      },
      "execution_count": null,
      "outputs": []
    },
    {
      "cell_type": "code",
      "source": [
        "#Lucro por ano e marca\n",
        "lucro_ano_marca = df.groupby([df['Data Venda'].dt.year, 'Marca'])['Lucro Total'].sum()\n",
        "lucro_ano_marca"
      ],
      "metadata": {
        "id": "fwlFg33pN1ph"
      },
      "execution_count": null,
      "outputs": []
    },
    {
      "cell_type": "code",
      "source": [
        "#Quantidade de produtos vendidos, agrupado por produto\n",
        "qtd_produto = df.groupby('Produto')['Quantidade'].sum().sort_values(ascending=False)\n",
        "qtd_produto"
      ],
      "metadata": {
        "id": "kdECgY2hN1sj"
      },
      "execution_count": null,
      "outputs": []
    },
    {
      "cell_type": "code",
      "source": [
        "#Gráfico da quantidade de produtos vendidos, agrupado por produto\n",
        "qtd_produto.plot.pie(title='Produtos vendidos')\n",
        "plt.ylabel('')"
      ],
      "metadata": {
        "id": "lTUhMAanN1vS"
      },
      "execution_count": null,
      "outputs": []
    },
    {
      "cell_type": "code",
      "source": [
        "#Gráfico do lucro por ano\n",
        "df.groupby(df['Data Venda'].dt.year)['Lucro Total'].sum().plot.barh(title='Lucro X Ano')\n",
        "plt.xlabel('Lucro(Milhões)')\n",
        "plt.ylabel('Ano')"
      ],
      "metadata": {
        "id": "ZhFVsArLN1x1"
      },
      "execution_count": null,
      "outputs": []
    },
    {
      "cell_type": "code",
      "source": [
        "#Apenas as vendas de 2009\n",
        "vendas_2009 = df[df['Data Venda'].dt.year == 2009]\n",
        "vendas_2009.sample(20)"
      ],
      "metadata": {
        "id": "hGre1Sr5N11-"
      },
      "execution_count": null,
      "outputs": []
    },
    {
      "cell_type": "code",
      "source": [
        "#Gráfico do lucro por mês do ano de 2009\n",
        "vendas_2009.groupby(vendas_2009['Data Venda'].dt.month)['Lucro Total'].sum().plot(title='Lucro X Mês (2009)')\n",
        "plt.xlabel('Mês')\n",
        "plt.ylabel('Lucro')"
      ],
      "metadata": {
        "id": "VUabZEFSN19O"
      },
      "execution_count": null,
      "outputs": []
    },
    {
      "cell_type": "code",
      "source": [
        "#Gráfico do lucro por marca do ano de 2009\n",
        "vendas_2009.groupby('Marca')['Lucro Total'].sum().plot.barh(title='Lucro X Marca (2009)')\n",
        "plt.xlabel('Lucro (Milhões)')\n",
        "plt.ylabel('Marca')"
      ],
      "metadata": {
        "id": "xtVjD8AAN2AJ"
      },
      "execution_count": null,
      "outputs": []
    },
    {
      "cell_type": "code",
      "source": [
        "#Gráfico do lucro por classe\n",
        "df.groupby('Classe')['Lucro Total'].sum().plot.barh(title='Lucro X Classe')\n",
        "plt.xlabel('Lucro (Milhões)')\n",
        "plt.ylabel('Classe')"
      ],
      "metadata": {
        "id": "Yl00YIhTZWgF"
      },
      "execution_count": null,
      "outputs": []
    },
    {
      "cell_type": "code",
      "source": [
        "#Análise estatística do tempo de envio\n",
        "df['Tempo Envio'].describe()"
      ],
      "metadata": {
        "id": "3n5zWRNsaNfS"
      },
      "execution_count": null,
      "outputs": []
    },
    {
      "cell_type": "code",
      "source": [
        "#Gráfico de boxplot do tempo de envio\n",
        "plt.boxplot(df['Tempo Envio'])"
      ],
      "metadata": {
        "id": "Bv57OqDlaar-"
      },
      "execution_count": null,
      "outputs": []
    },
    {
      "cell_type": "code",
      "source": [
        "#Histograma do tempo de envio\n",
        "plt.hist(df['Tempo Envio'])"
      ],
      "metadata": {
        "id": "SIEutJH5bLmO"
      },
      "execution_count": null,
      "outputs": []
    },
    {
      "cell_type": "code",
      "source": [
        "#Tempo mínimo de envio\n",
        "df['Tempo Envio'].min()"
      ],
      "metadata": {
        "id": "OzGsWqXPbR5O"
      },
      "execution_count": null,
      "outputs": []
    },
    {
      "cell_type": "code",
      "source": [
        "#Tempo máximo de envio\n",
        "df['Tempo Envio'].max()"
      ],
      "metadata": {
        "id": "at3puicpboxN"
      },
      "execution_count": null,
      "outputs": []
    },
    {
      "cell_type": "code",
      "source": [
        "#Identificar o outlier\n",
        "df[df['Tempo Envio'] == 20]"
      ],
      "metadata": {
        "id": "vkjBFtuIdmHm"
      },
      "execution_count": null,
      "outputs": []
    }
  ]
}